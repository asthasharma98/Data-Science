{
  "nbformat": 4,
  "nbformat_minor": 0,
  "metadata": {
    "colab": {
      "name": "02-insurance-linear.ipynb",
      "provenance": []
    },
    "kernelspec": {
      "display_name": "Python 3",
      "language": "python",
      "name": "python3"
    },
    "language_info": {
      "codemirror_mode": {
        "name": "ipython",
        "version": 3
      },
      "file_extension": ".py",
      "mimetype": "text/x-python",
      "name": "python",
      "nbconvert_exporter": "python",
      "pygments_lexer": "ipython3",
      "version": "3.8.5"
    },
    "widgets": {
      "application/vnd.jupyter.widget-state+json": {
        "8167e55c42474750ba470aaadc3b11ba": {
          "model_module": "@jupyter-widgets/controls",
          "model_name": "HBoxModel",
          "state": {
            "_dom_classes": [],
            "_model_module": "@jupyter-widgets/controls",
            "_model_module_version": "1.5.0",
            "_model_name": "HBoxModel",
            "_view_count": null,
            "_view_module": "@jupyter-widgets/controls",
            "_view_module_version": "1.5.0",
            "_view_name": "HBoxView",
            "box_style": "",
            "children": [
              "IPY_MODEL_c5352d1643de4e138584a237c4e87224",
              "IPY_MODEL_6420a9ad55874266b58c79a8c56792ed"
            ],
            "layout": "IPY_MODEL_fd3accda511142cc85a8a33e67b6162c"
          }
        },
        "fd3accda511142cc85a8a33e67b6162c": {
          "model_module": "@jupyter-widgets/base",
          "model_name": "LayoutModel",
          "state": {
            "_model_module": "@jupyter-widgets/base",
            "_model_module_version": "1.2.0",
            "_model_name": "LayoutModel",
            "_view_count": null,
            "_view_module": "@jupyter-widgets/base",
            "_view_module_version": "1.2.0",
            "_view_name": "LayoutView",
            "align_content": null,
            "align_items": null,
            "align_self": null,
            "border": null,
            "bottom": null,
            "display": null,
            "flex": null,
            "flex_flow": null,
            "grid_area": null,
            "grid_auto_columns": null,
            "grid_auto_flow": null,
            "grid_auto_rows": null,
            "grid_column": null,
            "grid_gap": null,
            "grid_row": null,
            "grid_template_areas": null,
            "grid_template_columns": null,
            "grid_template_rows": null,
            "height": null,
            "justify_content": null,
            "justify_items": null,
            "left": null,
            "margin": null,
            "max_height": null,
            "max_width": null,
            "min_height": null,
            "min_width": null,
            "object_fit": null,
            "object_position": null,
            "order": null,
            "overflow": null,
            "overflow_x": null,
            "overflow_y": null,
            "padding": null,
            "right": null,
            "top": null,
            "visibility": null,
            "width": null
          }
        },
        "c5352d1643de4e138584a237c4e87224": {
          "model_module": "@jupyter-widgets/controls",
          "model_name": "FloatProgressModel",
          "state": {
            "_dom_classes": [],
            "_model_module": "@jupyter-widgets/controls",
            "_model_module_version": "1.5.0",
            "_model_name": "FloatProgressModel",
            "_view_count": null,
            "_view_module": "@jupyter-widgets/controls",
            "_view_module_version": "1.5.0",
            "_view_name": "ProgressView",
            "bar_style": "info",
            "description": "",
            "description_tooltip": null,
            "layout": "IPY_MODEL_52406de07e4a486f865f4c2a802341a7",
            "max": 1,
            "min": 0,
            "orientation": "horizontal",
            "style": "IPY_MODEL_100c54b7193b45809ec965043b379209",
            "value": 1
          }
        },
        "6420a9ad55874266b58c79a8c56792ed": {
          "model_module": "@jupyter-widgets/controls",
          "model_name": "HTMLModel",
          "state": {
            "_dom_classes": [],
            "_model_module": "@jupyter-widgets/controls",
            "_model_module_version": "1.5.0",
            "_model_name": "HTMLModel",
            "_view_count": null,
            "_view_module": "@jupyter-widgets/controls",
            "_view_module_version": "1.5.0",
            "_view_name": "HTMLView",
            "description": "",
            "description_tooltip": null,
            "layout": "IPY_MODEL_5e84dfd5b8694837a3d41b36e61fe6d3",
            "placeholder": "​",
            "style": "IPY_MODEL_c668d397510249c5bb1c5a95833120c3",
            "value": " 57344/? [00:20&lt;00:00, 138307.52it/s]"
          }
        },
        "100c54b7193b45809ec965043b379209": {
          "model_module": "@jupyter-widgets/controls",
          "model_name": "ProgressStyleModel",
          "state": {
            "_model_module": "@jupyter-widgets/controls",
            "_model_module_version": "1.5.0",
            "_model_name": "ProgressStyleModel",
            "_view_count": null,
            "_view_module": "@jupyter-widgets/base",
            "_view_module_version": "1.2.0",
            "_view_name": "StyleView",
            "bar_color": null,
            "description_width": "initial"
          }
        },
        "52406de07e4a486f865f4c2a802341a7": {
          "model_module": "@jupyter-widgets/base",
          "model_name": "LayoutModel",
          "state": {
            "_model_module": "@jupyter-widgets/base",
            "_model_module_version": "1.2.0",
            "_model_name": "LayoutModel",
            "_view_count": null,
            "_view_module": "@jupyter-widgets/base",
            "_view_module_version": "1.2.0",
            "_view_name": "LayoutView",
            "align_content": null,
            "align_items": null,
            "align_self": null,
            "border": null,
            "bottom": null,
            "display": null,
            "flex": null,
            "flex_flow": null,
            "grid_area": null,
            "grid_auto_columns": null,
            "grid_auto_flow": null,
            "grid_auto_rows": null,
            "grid_column": null,
            "grid_gap": null,
            "grid_row": null,
            "grid_template_areas": null,
            "grid_template_columns": null,
            "grid_template_rows": null,
            "height": null,
            "justify_content": null,
            "justify_items": null,
            "left": null,
            "margin": null,
            "max_height": null,
            "max_width": null,
            "min_height": null,
            "min_width": null,
            "object_fit": null,
            "object_position": null,
            "order": null,
            "overflow": null,
            "overflow_x": null,
            "overflow_y": null,
            "padding": null,
            "right": null,
            "top": null,
            "visibility": null,
            "width": null
          }
        },
        "c668d397510249c5bb1c5a95833120c3": {
          "model_module": "@jupyter-widgets/controls",
          "model_name": "DescriptionStyleModel",
          "state": {
            "_model_module": "@jupyter-widgets/controls",
            "_model_module_version": "1.5.0",
            "_model_name": "DescriptionStyleModel",
            "_view_count": null,
            "_view_module": "@jupyter-widgets/base",
            "_view_module_version": "1.2.0",
            "_view_name": "StyleView",
            "description_width": ""
          }
        },
        "5e84dfd5b8694837a3d41b36e61fe6d3": {
          "model_module": "@jupyter-widgets/base",
          "model_name": "LayoutModel",
          "state": {
            "_model_module": "@jupyter-widgets/base",
            "_model_module_version": "1.2.0",
            "_model_name": "LayoutModel",
            "_view_count": null,
            "_view_module": "@jupyter-widgets/base",
            "_view_module_version": "1.2.0",
            "_view_name": "LayoutView",
            "align_content": null,
            "align_items": null,
            "align_self": null,
            "border": null,
            "bottom": null,
            "display": null,
            "flex": null,
            "flex_flow": null,
            "grid_area": null,
            "grid_auto_columns": null,
            "grid_auto_flow": null,
            "grid_auto_rows": null,
            "grid_column": null,
            "grid_gap": null,
            "grid_row": null,
            "grid_template_areas": null,
            "grid_template_columns": null,
            "grid_template_rows": null,
            "height": null,
            "justify_content": null,
            "justify_items": null,
            "left": null,
            "margin": null,
            "max_height": null,
            "max_width": null,
            "min_height": null,
            "min_width": null,
            "object_fit": null,
            "object_position": null,
            "order": null,
            "overflow": null,
            "overflow_x": null,
            "overflow_y": null,
            "padding": null,
            "right": null,
            "top": null,
            "visibility": null,
            "width": null
          }
        }
      }
    }
  },
  "cells": [
    {
      "cell_type": "code",
      "metadata": {
        "id": "2JHezRaPjQtx"
      },
      "source": [
        "# Jovian Commit Essentials\n",
        "# Please retain and execute this cell without modifying the contents for `jovian.commit` to work\n",
        "!pip install jovian --upgrade -q\n",
        "import jovian\n",
        "jovian.set_project('02-insurance-linear-regression')\n",
        "jovian.set_colab_id('1THU7dHVktnkU8yCokZGRdPYkXYCvf74X')"
      ],
      "execution_count": null,
      "outputs": []
    },
    {
      "cell_type": "markdown",
      "metadata": {
        "_cell_guid": "b1076dfc-b9ad-4769-8c92-a6c4dae69d19",
        "_uuid": "8f2839f25d086af736a60e9eeb907d3b93b6e0e5",
        "id": "rShKYcEqUbgX"
      },
      "source": [
        "# Insurance cost prediction using linear regression\n",
        "\n",
        "#### About Health Insurance : \n",
        "\n",
        "Health insurance is a type of insurance coverage that typically pays for medical, surgical, prescription drug and sometimes dental expenses incurred by the insured. Health insurance can reimburse the insured for expenses incurred from illness or injury, or pay the care provider directly.\n",
        "\n",
        "**To know more refer the given link** : (https://www.investopedia.com/terms/h/healthinsurance.asp)\n",
        "\n",
        "#### Dataset :\n",
        "\n",
        "The dataset for this problem is taken from kaggle.\n",
        "\n",
        "**Link :** [Insurance Cost Prediction](https://www.kaggle.com/mirichoi0218/insurance)\n",
        "\n",
        "#### Objective :\n",
        "\n",
        "In this notebook we're going to use information like a person's age, sex, BMI, no. of children and smoking habit to predict the price of yearly medical bills. This kind of model is useful for insurance companies to determine the yearly insurance premium for a person. \n",
        "\n",
        "\n",
        "#### We will create a model with the following steps:\n",
        "\n",
        "1. Download and explore the dataset\n",
        "2. Prepare the dataset for training\n",
        "3. Create a linear regression model\n",
        "4. Train the model to fit the data\n",
        "5. Make predictions using the trained model\n",
        "\n",
        "\n",
        "\n"
      ]
    },
    {
      "cell_type": "code",
      "metadata": {
        "id": "nmZglIM-Ubga"
      },
      "source": [
        "# Uncomment and run the appropriate command for your operating system, if required\n",
        "\n",
        "# Linux / Binder\n",
        "# !pip install numpy matplotlib pandas torch==1.7.0+cpu torchvision==0.8.1+cpu torchaudio==0.7.0 -f https://download.pytorch.org/whl/torch_stable.html\n",
        "\n",
        "# Windows\n",
        "# !pip install numpy matplotlib pandas torch==1.7.0+cpu torchvision==0.8.1+cpu torchaudio==0.7.0 -f https://download.pytorch.org/whl/torch_stable.html\n",
        "\n",
        "# MacOS\n",
        "# !pip install numpy matplotlib pandas torch torchvision torchaudio"
      ],
      "execution_count": null,
      "outputs": []
    },
    {
      "cell_type": "code",
      "metadata": {
        "id": "RlFZnfDAUbge"
      },
      "source": [
        "import torch\n",
        "import jovian\n",
        "import torchvision\n",
        "import torch.nn as nn\n",
        "import pandas as pd\n",
        "import matplotlib.pyplot as plt\n",
        "import torch.nn.functional as F\n",
        "from torchvision.datasets.utils import download_url\n",
        "from torch.utils.data import DataLoader, TensorDataset, random_split"
      ],
      "execution_count": null,
      "outputs": []
    },
    {
      "cell_type": "code",
      "metadata": {
        "id": "pa-LuOf2Ubgh"
      },
      "source": [
        "project_name='02-insurance-linear-regression' # will be used by jovian.commit"
      ],
      "execution_count": null,
      "outputs": []
    },
    {
      "cell_type": "markdown",
      "metadata": {
        "id": "mh1Ai2NnUbgk"
      },
      "source": [
        "## Step 1: Download and explore the data\n",
        "\n",
        "Let us begin by downloading the data. We'll use the `download_url` function from PyTorch to get the data as a CSV (comma-separated values) file. "
      ]
    },
    {
      "cell_type": "code",
      "metadata": {
        "_cell_guid": "79c7e3d0-c299-4dcb-8224-4455121ee9b0",
        "_uuid": "d629ff2d2480ee46fbb7e2d37f6b5fab8052498a",
        "colab": {
          "base_uri": "https://localhost:8080/",
          "height": 66,
          "referenced_widgets": [
            "8167e55c42474750ba470aaadc3b11ba",
            "fd3accda511142cc85a8a33e67b6162c",
            "c5352d1643de4e138584a237c4e87224",
            "6420a9ad55874266b58c79a8c56792ed",
            "100c54b7193b45809ec965043b379209",
            "52406de07e4a486f865f4c2a802341a7",
            "c668d397510249c5bb1c5a95833120c3",
            "5e84dfd5b8694837a3d41b36e61fe6d3"
          ]
        },
        "id": "IkNtYddjUbgm",
        "outputId": "6941fcfc-cb19-41c2-9971-a54e58654513"
      },
      "source": [
        "DATASET_URL = \"https://hub.jovian.ml/wp-content/uploads/2020/05/insurance.csv\"\n",
        "DATA_FILENAME = \"insurance.csv\"\n",
        "download_url(DATASET_URL, '.')"
      ],
      "execution_count": null,
      "outputs": [
        {
          "output_type": "stream",
          "text": [
            "Downloading https://hub.jovian.ml/wp-content/uploads/2020/05/insurance.csv to ./insurance.csv\n"
          ],
          "name": "stdout"
        },
        {
          "output_type": "display_data",
          "data": {
            "application/vnd.jupyter.widget-view+json": {
              "model_id": "8167e55c42474750ba470aaadc3b11ba",
              "version_major": 2,
              "version_minor": 0
            },
            "text/plain": [
              "HBox(children=(FloatProgress(value=1.0, bar_style='info', max=1.0), HTML(value='')))"
            ]
          },
          "metadata": {
            "tags": []
          }
        }
      ]
    },
    {
      "cell_type": "markdown",
      "metadata": {
        "id": "Ki4uHplhUbgu"
      },
      "source": [
        "To load the dataset into memory, we'll use the `read_csv` function from the `pandas` library. The data will be loaded as a Pandas dataframe. See this short tutorial to learn more: https://data36.com/pandas-tutorial-1-basics-reading-data-files-dataframes-data-selection/"
      ]
    },
    {
      "cell_type": "code",
      "metadata": {
        "colab": {
          "base_uri": "https://localhost:8080/",
          "height": 204
        },
        "id": "KCj465pjUbgw",
        "outputId": "0253ff3f-1deb-471c-cd7c-57aaa1594b04"
      },
      "source": [
        "dataframe_raw = pd.read_csv(DATA_FILENAME)\n",
        "dataframe_raw.head()"
      ],
      "execution_count": null,
      "outputs": [
        {
          "output_type": "execute_result",
          "data": {
            "text/html": [
              "<div>\n",
              "<style scoped>\n",
              "    .dataframe tbody tr th:only-of-type {\n",
              "        vertical-align: middle;\n",
              "    }\n",
              "\n",
              "    .dataframe tbody tr th {\n",
              "        vertical-align: top;\n",
              "    }\n",
              "\n",
              "    .dataframe thead th {\n",
              "        text-align: right;\n",
              "    }\n",
              "</style>\n",
              "<table border=\"1\" class=\"dataframe\">\n",
              "  <thead>\n",
              "    <tr style=\"text-align: right;\">\n",
              "      <th></th>\n",
              "      <th>age</th>\n",
              "      <th>sex</th>\n",
              "      <th>bmi</th>\n",
              "      <th>children</th>\n",
              "      <th>smoker</th>\n",
              "      <th>region</th>\n",
              "      <th>charges</th>\n",
              "    </tr>\n",
              "  </thead>\n",
              "  <tbody>\n",
              "    <tr>\n",
              "      <th>0</th>\n",
              "      <td>19</td>\n",
              "      <td>female</td>\n",
              "      <td>27.900</td>\n",
              "      <td>0</td>\n",
              "      <td>yes</td>\n",
              "      <td>southwest</td>\n",
              "      <td>16884.92400</td>\n",
              "    </tr>\n",
              "    <tr>\n",
              "      <th>1</th>\n",
              "      <td>18</td>\n",
              "      <td>male</td>\n",
              "      <td>33.770</td>\n",
              "      <td>1</td>\n",
              "      <td>no</td>\n",
              "      <td>southeast</td>\n",
              "      <td>1725.55230</td>\n",
              "    </tr>\n",
              "    <tr>\n",
              "      <th>2</th>\n",
              "      <td>28</td>\n",
              "      <td>male</td>\n",
              "      <td>33.000</td>\n",
              "      <td>3</td>\n",
              "      <td>no</td>\n",
              "      <td>southeast</td>\n",
              "      <td>4449.46200</td>\n",
              "    </tr>\n",
              "    <tr>\n",
              "      <th>3</th>\n",
              "      <td>33</td>\n",
              "      <td>male</td>\n",
              "      <td>22.705</td>\n",
              "      <td>0</td>\n",
              "      <td>no</td>\n",
              "      <td>northwest</td>\n",
              "      <td>21984.47061</td>\n",
              "    </tr>\n",
              "    <tr>\n",
              "      <th>4</th>\n",
              "      <td>32</td>\n",
              "      <td>male</td>\n",
              "      <td>28.880</td>\n",
              "      <td>0</td>\n",
              "      <td>no</td>\n",
              "      <td>northwest</td>\n",
              "      <td>3866.85520</td>\n",
              "    </tr>\n",
              "  </tbody>\n",
              "</table>\n",
              "</div>"
            ],
            "text/plain": [
              "   age     sex     bmi  children smoker     region      charges\n",
              "0   19  female  27.900         0    yes  southwest  16884.92400\n",
              "1   18    male  33.770         1     no  southeast   1725.55230\n",
              "2   28    male  33.000         3     no  southeast   4449.46200\n",
              "3   33    male  22.705         0     no  northwest  21984.47061\n",
              "4   32    male  28.880         0     no  northwest   3866.85520"
            ]
          },
          "metadata": {
            "tags": []
          },
          "execution_count": 9
        }
      ]
    },
    {
      "cell_type": "markdown",
      "metadata": {
        "id": "sowqjMJuUbgy"
      },
      "source": [
        "We're going to do a slight customization of the data, so that in the future if others want to use this code so every person gets a slightly different version of the dataset. Fill in your name below as a string (enter at least 5 characters)"
      ]
    },
    {
      "cell_type": "code",
      "metadata": {
        "id": "0kE-rZ88Ubgz"
      },
      "source": [
        "your_name = 'Astha' # at least 5 characters"
      ],
      "execution_count": null,
      "outputs": []
    },
    {
      "cell_type": "markdown",
      "metadata": {
        "id": "oToB_WJ9Ubg0"
      },
      "source": [
        "The `customize_dataset` function will customize the dataset slightly using your name as a source of random numbers."
      ]
    },
    {
      "cell_type": "code",
      "metadata": {
        "id": "QzpfPQu8Ubg1"
      },
      "source": [
        "def customize_dataset(dataframe_raw, rand_str):\n",
        "    dataframe = dataframe_raw.copy(deep=True)\n",
        "    # drop some rows\n",
        "    dataframe = dataframe.sample(int(0.95*len(dataframe)), random_state=int(ord(rand_str[0])))\n",
        "    # scale input\n",
        "    dataframe.bmi = dataframe.bmi * ord(rand_str[1])/100.\n",
        "    # scale target\n",
        "    dataframe.charges = dataframe.charges * ord(rand_str[2])/100.\n",
        "    # drop column\n",
        "    if ord(rand_str[3]) % 2 == 1:\n",
        "        dataframe = dataframe.drop(['region'], axis=1)\n",
        "    return dataframe"
      ],
      "execution_count": null,
      "outputs": []
    },
    {
      "cell_type": "code",
      "metadata": {
        "colab": {
          "base_uri": "https://localhost:8080/",
          "height": 204
        },
        "id": "fyjUVxQrUbg4",
        "outputId": "fd05c230-c6af-4154-bb51-f9678e1aa830"
      },
      "source": [
        "dataframe = customize_dataset(dataframe_raw, your_name)\n",
        "dataframe.head()"
      ],
      "execution_count": null,
      "outputs": [
        {
          "output_type": "execute_result",
          "data": {
            "text/html": [
              "<div>\n",
              "<style scoped>\n",
              "    .dataframe tbody tr th:only-of-type {\n",
              "        vertical-align: middle;\n",
              "    }\n",
              "\n",
              "    .dataframe tbody tr th {\n",
              "        vertical-align: top;\n",
              "    }\n",
              "\n",
              "    .dataframe thead th {\n",
              "        text-align: right;\n",
              "    }\n",
              "</style>\n",
              "<table border=\"1\" class=\"dataframe\">\n",
              "  <thead>\n",
              "    <tr style=\"text-align: right;\">\n",
              "      <th></th>\n",
              "      <th>age</th>\n",
              "      <th>sex</th>\n",
              "      <th>bmi</th>\n",
              "      <th>children</th>\n",
              "      <th>smoker</th>\n",
              "      <th>region</th>\n",
              "      <th>charges</th>\n",
              "    </tr>\n",
              "  </thead>\n",
              "  <tbody>\n",
              "    <tr>\n",
              "      <th>27</th>\n",
              "      <td>55</td>\n",
              "      <td>female</td>\n",
              "      <td>37.69125</td>\n",
              "      <td>2</td>\n",
              "      <td>no</td>\n",
              "      <td>northwest</td>\n",
              "      <td>14231.613410</td>\n",
              "    </tr>\n",
              "    <tr>\n",
              "      <th>752</th>\n",
              "      <td>64</td>\n",
              "      <td>male</td>\n",
              "      <td>43.59075</td>\n",
              "      <td>0</td>\n",
              "      <td>no</td>\n",
              "      <td>northwest</td>\n",
              "      <td>16484.221702</td>\n",
              "    </tr>\n",
              "    <tr>\n",
              "      <th>1258</th>\n",
              "      <td>55</td>\n",
              "      <td>male</td>\n",
              "      <td>43.37225</td>\n",
              "      <td>3</td>\n",
              "      <td>no</td>\n",
              "      <td>northwest</td>\n",
              "      <td>34873.753438</td>\n",
              "    </tr>\n",
              "    <tr>\n",
              "      <th>384</th>\n",
              "      <td>44</td>\n",
              "      <td>male</td>\n",
              "      <td>25.45525</td>\n",
              "      <td>2</td>\n",
              "      <td>no</td>\n",
              "      <td>northeast</td>\n",
              "      <td>9630.941354</td>\n",
              "    </tr>\n",
              "    <tr>\n",
              "      <th>406</th>\n",
              "      <td>33</td>\n",
              "      <td>female</td>\n",
              "      <td>27.95650</td>\n",
              "      <td>0</td>\n",
              "      <td>no</td>\n",
              "      <td>southeast</td>\n",
              "      <td>4854.713564</td>\n",
              "    </tr>\n",
              "  </tbody>\n",
              "</table>\n",
              "</div>"
            ],
            "text/plain": [
              "      age     sex       bmi  children smoker     region       charges\n",
              "27     55  female  37.69125         2     no  northwest  14231.613410\n",
              "752    64    male  43.59075         0     no  northwest  16484.221702\n",
              "1258   55    male  43.37225         3     no  northwest  34873.753438\n",
              "384    44    male  25.45525         2     no  northeast   9630.941354\n",
              "406    33  female  27.95650         0     no  southeast   4854.713564"
            ]
          },
          "metadata": {
            "tags": []
          },
          "execution_count": 12
        }
      ]
    },
    {
      "cell_type": "markdown",
      "metadata": {
        "id": "YbeXH-TkUbg_"
      },
      "source": [
        "Let us answer some basic questions about the dataset. \n",
        "\n",
        "\n",
        "**Q: How many rows does the dataset have?**"
      ]
    },
    {
      "cell_type": "code",
      "metadata": {
        "colab": {
          "base_uri": "https://localhost:8080/"
        },
        "id": "NAc7h1svUbhB",
        "outputId": "9fa01966-51ec-4b80-853b-90f476550764"
      },
      "source": [
        "num_rows = dataframe.shape[0]\n",
        "print(num_rows)"
      ],
      "execution_count": null,
      "outputs": [
        {
          "output_type": "stream",
          "text": [
            "1271\n"
          ],
          "name": "stdout"
        }
      ]
    },
    {
      "cell_type": "markdown",
      "metadata": {
        "id": "fYAhLV0yUbhD"
      },
      "source": [
        "**Q: How many columns does the dataset have?**"
      ]
    },
    {
      "cell_type": "code",
      "metadata": {
        "colab": {
          "base_uri": "https://localhost:8080/"
        },
        "id": "UhzOt1B8UbhE",
        "outputId": "1033accb-4ae0-44fa-a6ca-a7d71e6ece4b"
      },
      "source": [
        "num_cols = dataframe.shape[1]\n",
        "print(num_cols)"
      ],
      "execution_count": null,
      "outputs": [
        {
          "output_type": "stream",
          "text": [
            "7\n"
          ],
          "name": "stdout"
        }
      ]
    },
    {
      "cell_type": "markdown",
      "metadata": {
        "id": "NbmeLMiSUbhH"
      },
      "source": [
        "**Q: What are the column titles of the input variables?**"
      ]
    },
    {
      "cell_type": "code",
      "metadata": {
        "colab": {
          "base_uri": "https://localhost:8080/"
        },
        "id": "RDVW2eCpUbhL",
        "outputId": "98c3daf9-0fde-42ad-a7b4-14d85e95789a"
      },
      "source": [
        "input_cols =dataframe.drop(\"charges\",axis=1).columns         \r\n",
        "input_cols"
      ],
      "execution_count": null,
      "outputs": [
        {
          "output_type": "execute_result",
          "data": {
            "text/plain": [
              "Index(['age', 'sex', 'bmi', 'children', 'smoker', 'region'], dtype='object')"
            ]
          },
          "metadata": {
            "tags": []
          },
          "execution_count": 13
        }
      ]
    },
    {
      "cell_type": "markdown",
      "metadata": {
        "id": "hr5GU_uvUbhM"
      },
      "source": [
        "**Q: Which of the input columns are non-numeric or categorial variables ?**\n",
        "\n"
      ]
    },
    {
      "cell_type": "code",
      "metadata": {
        "colab": {
          "base_uri": "https://localhost:8080/"
        },
        "id": "NdWhmLGvUbhQ",
        "outputId": "40d2dd23-99ac-4db5-c13d-f6a7564f3a0f"
      },
      "source": [
        "categorical_cols =['sex','smoker','region'] \r\n",
        "categorical_cols"
      ],
      "execution_count": null,
      "outputs": [
        {
          "output_type": "execute_result",
          "data": {
            "text/plain": [
              "['sex', 'smoker', 'region']"
            ]
          },
          "metadata": {
            "tags": []
          },
          "execution_count": 14
        }
      ]
    },
    {
      "cell_type": "markdown",
      "metadata": {
        "id": "iHgkvY8RUbhQ"
      },
      "source": [
        "**Q: What are the column titles of output/target variable(s)?**"
      ]
    },
    {
      "cell_type": "code",
      "metadata": {
        "colab": {
          "base_uri": "https://localhost:8080/"
        },
        "id": "0G-o8uXVUbhR",
        "outputId": "ad44b70b-81dc-45a1-f15b-531036bfc4b5"
      },
      "source": [
        "output_cols = ['charges']\r\n",
        "output_cols"
      ],
      "execution_count": null,
      "outputs": [
        {
          "output_type": "execute_result",
          "data": {
            "text/plain": [
              "['charges']"
            ]
          },
          "metadata": {
            "tags": []
          },
          "execution_count": 15
        }
      ]
    },
    {
      "cell_type": "markdown",
      "metadata": {
        "id": "-4OyrQsE6Xc9"
      },
      "source": [
        "**Q: What is the minimum, maximum and average value of the `charges` column? Let's show the distribution of values in a graph**\r\n",
        " data visualization cheatsheet for referece: https://jovian.ml/aakashns/dataviz-cheatsheet"
      ]
    },
    {
      "cell_type": "code",
      "metadata": {
        "colab": {
          "base_uri": "https://localhost:8080/",
          "height": 386
        },
        "id": "C9PEPyWmm7Zt",
        "outputId": "7d5f4ff5-4b88-4ad3-d3e4-d651de68362a"
      },
      "source": [
        "import seaborn as sns\r\n",
        "sns.set_style(\"darkgrid\")\r\n",
        "\r\n",
        "plt.figure(figsize=(10,8))\r\n",
        "sns.displot(dataframe.charges, kde=True);"
      ],
      "execution_count": null,
      "outputs": [
        {
          "output_type": "display_data",
          "data": {
            "text/plain": [
              "<Figure size 720x576 with 0 Axes>"
            ]
          },
          "metadata": {
            "tags": []
          }
        },
        {
          "output_type": "display_data",
          "data": {
            "image/png": "[encoded data removed]",
            "text/plain": [
              "<Figure size 360x360 with 1 Axes>"
            ]
          },
          "metadata": {
            "tags": []
          }
        }
      ]
    },
    {
      "cell_type": "code",
      "metadata": {
        "colab": {
          "base_uri": "https://localhost:8080/"
        },
        "id": "TxqHlvU1UbhU",
        "outputId": "37bff4d7-f6e6-4768-f5c9-f2f00e16277a"
      },
      "source": [
        "dataframe.charges.describe()"
      ],
      "execution_count": null,
      "outputs": [
        {
          "output_type": "execute_result",
          "data": {
            "text/plain": [
              "count     1271.000000\n",
              "mean     15420.162249\n",
              "std      14097.842146\n",
              "min       1301.373724\n",
              "25%       5473.882008\n",
              "50%      10893.961360\n",
              "75%      19535.174845\n",
              "max      73973.696492\n",
              "Name: charges, dtype: float64"
            ]
          },
          "metadata": {
            "tags": []
          },
          "execution_count": 17
        }
      ]
    },
    {
      "cell_type": "markdown",
      "metadata": {
        "id": "VKi8cd-r7GTX"
      },
      "source": [
        "**Lets check if there is any null values peresent in the datatset.**"
      ]
    },
    {
      "cell_type": "code",
      "metadata": {
        "colab": {
          "base_uri": "https://localhost:8080/"
        },
        "id": "ps2S_3-A7rsN",
        "outputId": "f96e15d2-0ac8-4d8b-8aa4-519620a14a11"
      },
      "source": [
        "dataframe.isnull().sum()"
      ],
      "execution_count": null,
      "outputs": [
        {
          "output_type": "execute_result",
          "data": {
            "text/plain": [
              "age         0\n",
              "sex         0\n",
              "bmi         0\n",
              "children    0\n",
              "smoker      0\n",
              "region      0\n",
              "charges     0\n",
              "dtype: int64"
            ]
          },
          "metadata": {
            "tags": []
          },
          "execution_count": 13
        }
      ]
    },
    {
      "cell_type": "markdown",
      "metadata": {
        "id": "A0LMaCC2UbhV"
      },
      "source": [
        "commiting notebook to Jovian after every step, so that I don't lose my work."
      ]
    },
    {
      "cell_type": "code",
      "metadata": {
        "id": "loPFNkiBUbhX"
      },
      "source": [
        "!pip install jovian --upgrade -q\r\n"
      ],
      "execution_count": null,
      "outputs": []
    },
    {
      "cell_type": "code",
      "metadata": {
        "id": "1jJ2dbwIUbhY"
      },
      "source": [
        "import jovian"
      ],
      "execution_count": null,
      "outputs": []
    },
    {
      "cell_type": "code",
      "metadata": {
        "colab": {
          "base_uri": "https://localhost:8080/",
          "height": 103
        },
        "id": "Xi_HSo3iUbhY",
        "outputId": "14a4746f-e0d9-4d3a-d1ff-1dff72521b10"
      },
      "source": [
        "jovian.commit(project='02-insurance-linear-regression')"
      ],
      "execution_count": null,
      "outputs": [
        {
          "output_type": "stream",
          "text": [
            "[jovian] Detected Colab notebook...\u001b[0m\n",
            "[jovian] Uploading colab notebook to Jovian...\u001b[0m\n",
            "[jovian] Capturing environment..\u001b[0m\n",
            "[jovian] Committed successfully! https://jovian.ai/astha1998/02-insurance-linear-regression\u001b[0m\n"
          ],
          "name": "stdout"
        },
        {
          "output_type": "execute_result",
          "data": {
            "application/vnd.google.colaboratory.intrinsic+json": {
              "type": "string"
            },
            "text/plain": [
              "'https://jovian.ai/astha1998/02-insurance-linear-regression'"
            ]
          },
          "metadata": {
            "tags": []
          },
          "execution_count": 14
        }
      ]
    },
    {
      "cell_type": "markdown",
      "metadata": {
        "id": "JngffaWiUbhZ"
      },
      "source": [
        "## Step 2: Prepare the dataset for training\n",
        "\n",
        "We need to convert the data from the Pandas dataframe into a PyTorch tensors for training. To do this, the first step is to convert it numpy arrays. The following function will perform the conversion to numpy arrays."
      ]
    },
    {
      "cell_type": "code",
      "metadata": {
        "id": "TXP77oByUbha"
      },
      "source": [
        "\n",
        "def dataframe_to_arrays(dataframe):\n",
        "    # Make a copy of the original dataframe\n",
        "    dataframe1 = dataframe.copy(deep=True)\n",
        "    # Convert non-numeric categorical columns to numbers\n",
        "    for col in categorical_cols:\n",
        "        dataframe1[col] = dataframe1[col].astype('category').cat.codes\n",
        "    # Extract input & outupts as numpy arrays\n",
        "    inputs_array = dataframe1[input_cols].to_numpy()\n",
        "    targets_array = dataframe1[output_cols].to_numpy()\n",
        "    return inputs_array, targets_array"
      ],
      "execution_count": null,
      "outputs": []
    },
    {
      "cell_type": "markdown",
      "metadata": {
        "id": "HM8ZqOK6Ubha"
      },
      "source": [
        "Read through the [Pandas documentation](https://pandas.pydata.org/pandas-docs/stable/user_guide/categorical.html) to understand how we're converting categorical variables into numbers."
      ]
    },
    {
      "cell_type": "code",
      "metadata": {
        "colab": {
          "base_uri": "https://localhost:8080/"
        },
        "id": "vztFVMOuUbhn",
        "outputId": "4e2277f4-e2b5-4214-badc-877d1333375b"
      },
      "source": [
        "inputs_array, targets_array = dataframe_to_arrays(dataframe)\n",
        "inputs_array, targets_array"
      ],
      "execution_count": null,
      "outputs": [
        {
          "output_type": "execute_result",
          "data": {
            "text/plain": [
              "(array([[55.     ,  0.     , 37.69125,  2.     ,  0.     ,  1.     ],\n",
              "        [64.     ,  1.     , 43.59075,  0.     ,  0.     ,  1.     ],\n",
              "        [55.     ,  1.     , 43.37225,  3.     ,  0.     ,  1.     ],\n",
              "        ...,\n",
              "        [56.     ,  1.     , 29.82525,  0.     ,  0.     ,  0.     ],\n",
              "        [18.     ,  0.     , 34.85075,  0.     ,  0.     ,  0.     ],\n",
              "        [43.     ,  1.     , 29.9345 ,  0.     ,  0.     ,  0.     ]]),\n",
              " array([[14231.61341 ],\n",
              "        [16484.221702],\n",
              "        [34873.753438],\n",
              "        ...,\n",
              "        [12951.884474],\n",
              "        [ 2556.333702],\n",
              "        [ 7931.347692]]))"
            ]
          },
          "metadata": {
            "tags": []
          },
          "execution_count": 32
        }
      ]
    },
    {
      "cell_type": "markdown",
      "metadata": {
        "id": "PQZbB6MKUbho"
      },
      "source": [
        " Converting the numpy arrays `inputs_array` and `targets_array` into PyTorch tensors. Make sure that the data type is `torch.float32`."
      ]
    },
    {
      "cell_type": "code",
      "metadata": {
        "id": "YdWM4qsvUbhr"
      },
      "source": [
        "inputs = torch.tensor(inputs_array).type(torch.float32)\n",
        "targets = torch.tensor(targets_array).type(torch.float32)\n"
      ],
      "execution_count": null,
      "outputs": []
    },
    {
      "cell_type": "code",
      "metadata": {
        "colab": {
          "base_uri": "https://localhost:8080/"
        },
        "id": "OkqzacyhUbhy",
        "outputId": "6252c319-69c9-45cf-e0be-a89d0681241f"
      },
      "source": [
        "inputs.dtype, targets.dtype"
      ],
      "execution_count": null,
      "outputs": [
        {
          "output_type": "execute_result",
          "data": {
            "text/plain": [
              "(torch.float32, torch.float32)"
            ]
          },
          "metadata": {
            "tags": []
          },
          "execution_count": 34
        }
      ]
    },
    {
      "cell_type": "markdown",
      "metadata": {
        "id": "h01c51QtUbhz"
      },
      "source": [
        "Next, we need to create PyTorch datasets & data loaders for training & validation. We'll start by creating a `TensorDataset`."
      ]
    },
    {
      "cell_type": "code",
      "metadata": {
        "id": "07ITSPH2Ubh0"
      },
      "source": [
        "dataset = TensorDataset(inputs, targets)"
      ],
      "execution_count": null,
      "outputs": []
    },
    {
      "cell_type": "markdown",
      "metadata": {
        "id": "NhqbzJh-Ubh9"
      },
      "source": [
        " selecting a number between `0.1` and `0.2` to determine the fraction of data that will be used for creating the validation set. Then will use `random_split` to create training & validation datasets."
      ]
    },
    {
      "cell_type": "code",
      "metadata": {
        "colab": {
          "base_uri": "https://localhost:8080/"
        },
        "id": "pUvCqeKmUbh-",
        "outputId": "417af743-1cf0-497b-ce68-462a6f0dfb4c"
      },
      "source": [
        "val_percent = 0.15 # between 0.1 and 0.2\n",
        "val_size = int(num_rows * val_percent)\n",
        "train_size = num_rows - val_size\n",
        "\n",
        "\n",
        "train_ds, val_ds = random_split(dataset, [train_size, val_size]) # Use the random_split function to split dataset into 2 parts of the desired length\n",
        "len(train_ds), len(val_ds)"
      ],
      "execution_count": null,
      "outputs": [
        {
          "output_type": "execute_result",
          "data": {
            "text/plain": [
              "(1081, 190)"
            ]
          },
          "metadata": {
            "tags": []
          },
          "execution_count": 203
        }
      ]
    },
    {
      "cell_type": "markdown",
      "metadata": {
        "id": "nHqiTSh6Ubh-"
      },
      "source": [
        "Finally, we can create data loaders for training & validation.\n",
        "\n",
        "selecting a batch size for the data loader."
      ]
    },
    {
      "cell_type": "code",
      "metadata": {
        "id": "d6rvXD0AUbh_"
      },
      "source": [
        "batch_size = 5\r\n"
      ],
      "execution_count": null,
      "outputs": []
    },
    {
      "cell_type": "code",
      "metadata": {
        "id": "oJm1CdwxUbh_"
      },
      "source": [
        "train_loader = DataLoader(train_ds, batch_size, shuffle=True)\n",
        "val_loader = DataLoader(val_ds, batch_size)"
      ],
      "execution_count": null,
      "outputs": []
    },
    {
      "cell_type": "markdown",
      "metadata": {
        "id": "lIuPCfL4UbiC"
      },
      "source": [
        "Let's look at a batch of data to verify everything is working fine so far."
      ]
    },
    {
      "cell_type": "code",
      "metadata": {
        "colab": {
          "base_uri": "https://localhost:8080/"
        },
        "id": "ZyZnaJePUbiD",
        "outputId": "cdc4cb20-c619-45d2-d5a7-4571e8b7dc5d"
      },
      "source": [
        "for xb, yb in train_loader:\n",
        "    print(\"inputs:\", xb)\n",
        "    print(\"targets:\", yb)\n",
        "    break"
      ],
      "execution_count": null,
      "outputs": [
        {
          "output_type": "stream",
          "text": [
            "inputs: tensor([[36.0000,  0.0000, 25.9900,  2.0000,  1.0000,  3.0000],\n",
            "        [22.0000,  0.0000, 31.1650,  0.0000,  0.0000,  3.0000],\n",
            "        [49.0000,  1.0000, 41.2390,  0.0000,  0.0000,  2.0000],\n",
            "        [18.0000,  0.0000, 43.8955,  0.0000,  0.0000,  2.0000],\n",
            "        [21.0000,  1.0000, 42.3775,  0.0000,  0.0000,  2.0000]])\n",
            "targets: tensor([[21585.5840],\n",
            "        [ 2499.0588],\n",
            "        [ 9424.3135],\n",
            "        [ 1892.7352],\n",
            "        [ 1779.7932]])\n"
          ],
          "name": "stdout"
        }
      ]
    },
    {
      "cell_type": "markdown",
      "metadata": {
        "id": "hsiDP5p3UbiF"
      },
      "source": [
        "Let's save our work by committing to Jovian."
      ]
    },
    {
      "cell_type": "code",
      "metadata": {
        "colab": {
          "base_uri": "https://localhost:8080/",
          "height": 86
        },
        "id": "iFyuOOgzUbiG",
        "outputId": "d6809bb8-06e0-4229-8f05-6fa915f1f38b"
      },
      "source": [
        "jovian.commit(project='02-insurance-linear-regression', environment=None)"
      ],
      "execution_count": null,
      "outputs": [
        {
          "output_type": "stream",
          "text": [
            "[jovian] Detected Colab notebook...\u001b[0m\n",
            "[jovian] Uploading colab notebook to Jovian...\u001b[0m\n",
            "[jovian] Committed successfully! https://jovian.ai/astha1998/02-insurance-linear-regression\u001b[0m\n"
          ],
          "name": "stdout"
        },
        {
          "output_type": "execute_result",
          "data": {
            "application/vnd.google.colaboratory.intrinsic+json": {
              "type": "string"
            },
            "text/plain": [
              "'https://jovian.ai/astha1998/02-insurance-linear-regression'"
            ]
          },
          "metadata": {
            "tags": []
          },
          "execution_count": 15
        }
      ]
    },
    {
      "cell_type": "markdown",
      "metadata": {
        "id": "x15NMY2lUbiG"
      },
      "source": [
        "## Step 3: Create a Linear Regression Model\n",
        "\n",
        "Our model itself is a fairly straightforward linear regression. \n"
      ]
    },
    {
      "cell_type": "code",
      "metadata": {
        "colab": {
          "base_uri": "https://localhost:8080/"
        },
        "id": "79kII2ZRUbiH",
        "outputId": "ff9fec3f-93d8-4345-9945-0804228aa32b"
      },
      "source": [
        "input_size = len(input_cols)\n",
        "output_size = len(output_cols)\n",
        "input_size, output_size"
      ],
      "execution_count": null,
      "outputs": [
        {
          "output_type": "execute_result",
          "data": {
            "text/plain": [
              "(6, 1)"
            ]
          },
          "metadata": {
            "tags": []
          },
          "execution_count": 209
        }
      ]
    },
    {
      "cell_type": "markdown",
      "metadata": {
        "id": "c3miGzg5UbiI"
      },
      "source": [
        " Definig class below by filling out the constructor (`__init__`), `forward`, `training_step` and `validation_step` methods.\n",
        "\n"
      ]
    },
    {
      "cell_type": "code",
      "metadata": {
        "id": "phZgDTmcUbiI"
      },
      "source": [
        "class InsuranceModel(nn.Module):\n",
        "    def __init__(self):\n",
        "        super().__init__()\n",
        "        self.linear = nn.Linear(input_size, output_size)              \n",
        "        \n",
        "    def forward(self, xb):\n",
        "        out = self.linear(xb)                           \n",
        "        return out\n",
        "    \n",
        "    def training_step(self, batch):\n",
        "        inputs, targets = batch \n",
        "        # Generate predictions\n",
        "        out = self(inputs)          \n",
        "        # Calcuate loss\n",
        "        loss = F.l1_loss(out, targets)                         \n",
        "        return loss\n",
        "    \n",
        "    def validation_step(self, batch):\n",
        "        inputs, targets = batch\n",
        "        # Generate predictions\n",
        "        out = self(inputs)\n",
        "        # Calculate loss\n",
        "        loss = F.l1_loss(out, targets)                                                      \n",
        "        return {'val_loss': loss.detach()}\n",
        "        \n",
        "    def validation_epoch_end(self, outputs):\n",
        "        batch_losses = [x['val_loss'] for x in outputs]\n",
        "        epoch_loss = torch.stack(batch_losses).mean()   # Combine losses\n",
        "        return {'val_loss': epoch_loss.item()}\n",
        "    \n",
        "    def epoch_end(self, epoch, result, num_epochs):\n",
        "        # Print result every 20th epoch\n",
        "        if (epoch+1) % 20 == 0 or epoch == num_epochs-1:\n",
        "            print(\"Epoch [{}], val_loss: {:.4f}\".format(epoch+1, result['val_loss']))"
      ],
      "execution_count": null,
      "outputs": []
    },
    {
      "cell_type": "markdown",
      "metadata": {
        "id": "F3oJcmCxUbiJ"
      },
      "source": [
        "Let us create a model using the `InsuranceModel` class. we may need to come back later and re-run the next cell to reinitialize the model, in case the loss becomes `nan` or `infinity`."
      ]
    },
    {
      "cell_type": "code",
      "metadata": {
        "id": "l-4MCmxsUbiJ"
      },
      "source": [
        "model = InsuranceModel()"
      ],
      "execution_count": null,
      "outputs": []
    },
    {
      "cell_type": "markdown",
      "metadata": {
        "id": "KVlgilcyUbiK"
      },
      "source": [
        "Let's check out the weights and biases of the model using `model.parameters`."
      ]
    },
    {
      "cell_type": "code",
      "metadata": {
        "colab": {
          "base_uri": "https://localhost:8080/"
        },
        "id": "zwNM-lL7UbiL",
        "outputId": "2614eb1b-271b-4ee3-ca0c-eb3a4f2d4b15"
      },
      "source": [
        "list(model.parameters())"
      ],
      "execution_count": null,
      "outputs": [
        {
          "output_type": "execute_result",
          "data": {
            "text/plain": [
              "[Parameter containing:\n",
              " tensor([[ 0.2191, -0.1761, -0.0393,  0.1294,  0.2058,  0.4035]],\n",
              "        requires_grad=True), Parameter containing:\n",
              " tensor([0.1017], requires_grad=True)]"
            ]
          },
          "metadata": {
            "tags": []
          },
          "execution_count": 212
        }
      ]
    },
    {
      "cell_type": "markdown",
      "metadata": {
        "id": "RvHyRURdUbiL"
      },
      "source": [
        "One final commit before we train the model."
      ]
    },
    {
      "cell_type": "code",
      "metadata": {
        "colab": {
          "base_uri": "https://localhost:8080/",
          "height": 86
        },
        "id": "-DRHTUaUUbiL",
        "outputId": "098b7199-b263-494d-862a-3290734b2a75"
      },
      "source": [
        "jovian.commit(project=project_name, environment=None)"
      ],
      "execution_count": null,
      "outputs": [
        {
          "output_type": "stream",
          "text": [
            "[jovian] Detected Colab notebook...\u001b[0m\n",
            "[jovian] Uploading colab notebook to Jovian...\u001b[0m\n",
            "[jovian] Committed successfully! https://jovian.ai/astha1998/02-insurance-linear-regression\u001b[0m\n"
          ],
          "name": "stdout"
        },
        {
          "output_type": "execute_result",
          "data": {
            "application/vnd.google.colaboratory.intrinsic+json": {
              "type": "string"
            },
            "text/plain": [
              "'https://jovian.ai/astha1998/02-insurance-linear-regression'"
            ]
          },
          "metadata": {
            "tags": []
          },
          "execution_count": 16
        }
      ]
    },
    {
      "cell_type": "markdown",
      "metadata": {
        "id": "woWLH1ExUbiN"
      },
      "source": [
        "## Step 4: Train the model to fit the data\n",
        "\n",
        "To train our model, we'll use the `fit` function. the benefit of defining a generic training loop - you can use it for any problem."
      ]
    },
    {
      "cell_type": "code",
      "metadata": {
        "id": "eyDsgC2VUbiO"
      },
      "source": [
        "def evaluate(model, val_loader):\n",
        "    outputs = [model.validation_step(batch) for batch in val_loader]\n",
        "    return model.validation_epoch_end(outputs)\n",
        "\n",
        "def fit(epochs, lr, model, train_loader, val_loader, opt_func=torch.optim.SGD):\n",
        "    history = []\n",
        "    optimizer = opt_func(model.parameters(), lr)\n",
        "    for epoch in range(epochs):\n",
        "        # Training Phase \n",
        "        for batch in train_loader:\n",
        "            loss = model.training_step(batch)\n",
        "            loss.backward()\n",
        "            optimizer.step()\n",
        "            optimizer.zero_grad()\n",
        "        # Validation phase\n",
        "        result = evaluate(model, val_loader)\n",
        "        model.epoch_end(epoch, result, epochs)\n",
        "        history.append(result)\n",
        "    return history"
      ],
      "execution_count": null,
      "outputs": []
    },
    {
      "cell_type": "markdown",
      "metadata": {
        "id": "EgNh1cdYUbiQ"
      },
      "source": [
        "**Q: Using the `evaluate` function to calculate the loss on the validation set before training.**"
      ]
    },
    {
      "cell_type": "code",
      "metadata": {
        "colab": {
          "base_uri": "https://localhost:8080/"
        },
        "id": "MG2mHkd2Ubit",
        "outputId": "38d2db91-3c18-4b50-aa81-a50d9ca6edec"
      },
      "source": [
        "result = evaluate(model, val_loader) # Use the the evaluate function\n",
        "print(result)\n"
      ],
      "execution_count": null,
      "outputs": [
        {
          "output_type": "stream",
          "text": [
            "{'val_loss': 13579.2490234375}\n"
          ],
          "name": "stdout"
        }
      ]
    },
    {
      "cell_type": "markdown",
      "metadata": {
        "id": "pjJ5QX-hUbiu"
      },
      "source": [
        "\n",
        "We are now ready to train the model. we may need to run the training loop many times, for different number of epochs and with different learning rates, to get a good result. Also, if our loss becomes too large (or `nan`), we may have to re-initialize the model by running the cell `model = InsuranceModel()`."
      ]
    },
    {
      "cell_type": "markdown",
      "metadata": {
        "id": "IYR8fi20Ubiu"
      },
      "source": [
        "**Training the model 4-5 times with different learning rates & for different number of epochs.**\n",
        "Varying learning rates by orders of 10 (e.g. `1e-2`, `1e-3`, `1e-4`, `1e-5`, `1e-6`) to figure out what works."
      ]
    },
    {
      "cell_type": "code",
      "metadata": {
        "colab": {
          "base_uri": "https://localhost:8080/"
        },
        "id": "HXyqb1JsUbiz",
        "outputId": "08bed2ea-7812-4113-a314-5d0d1d3814e4"
      },
      "source": [
        "epochs = 200\n",
        "lr = 1e-4\n",
        "history1 = fit(epochs, lr, model, train_loader, val_loader)"
      ],
      "execution_count": null,
      "outputs": [
        {
          "output_type": "stream",
          "text": [
            "Epoch [20], val_loss: 12368.1436\n",
            "Epoch [40], val_loss: 11193.9033\n",
            "Epoch [60], val_loss: 10192.1094\n",
            "Epoch [80], val_loss: 9398.5068\n",
            "Epoch [100], val_loss: 8746.6924\n",
            "Epoch [120], val_loss: 8228.6221\n",
            "Epoch [140], val_loss: 7864.6440\n",
            "Epoch [160], val_loss: 7598.6704\n",
            "Epoch [180], val_loss: 7403.8848\n",
            "Epoch [200], val_loss: 7275.5635\n"
          ],
          "name": "stdout"
        }
      ]
    },
    {
      "cell_type": "code",
      "metadata": {
        "colab": {
          "base_uri": "https://localhost:8080/"
        },
        "id": "idsgvGE6Ubi1",
        "outputId": "bee3372d-df79-48ed-ce01-8e242298aa6b"
      },
      "source": [
        "epochs = 500\n",
        "lr = 1e-3\n",
        "history2 = fit(epochs, lr, model, train_loader, val_loader)"
      ],
      "execution_count": null,
      "outputs": [
        {
          "output_type": "stream",
          "text": [
            "Epoch [20], val_loss: 6981.3545\n",
            "Epoch [40], val_loss: 6910.2896\n",
            "Epoch [60], val_loss: 6826.1699\n",
            "Epoch [80], val_loss: 6740.9829\n",
            "Epoch [100], val_loss: 6657.0098\n",
            "Epoch [120], val_loss: 6580.8149\n",
            "Epoch [140], val_loss: 6507.8130\n",
            "Epoch [160], val_loss: 6435.2021\n",
            "Epoch [180], val_loss: 6363.6157\n",
            "Epoch [200], val_loss: 6298.6338\n",
            "Epoch [220], val_loss: 6245.1890\n",
            "Epoch [240], val_loss: 6201.2671\n",
            "Epoch [260], val_loss: 6162.4805\n",
            "Epoch [280], val_loss: 6133.1123\n",
            "Epoch [300], val_loss: 6112.1265\n",
            "Epoch [320], val_loss: 6095.1704\n",
            "Epoch [340], val_loss: 6082.8008\n",
            "Epoch [360], val_loss: 6075.7793\n",
            "Epoch [380], val_loss: 6068.2759\n",
            "Epoch [400], val_loss: 6063.8535\n",
            "Epoch [420], val_loss: 6063.1377\n",
            "Epoch [440], val_loss: 6060.4839\n",
            "Epoch [460], val_loss: 6057.9683\n",
            "Epoch [480], val_loss: 6057.2056\n",
            "Epoch [500], val_loss: 6055.7515\n"
          ],
          "name": "stdout"
        }
      ]
    },
    {
      "cell_type": "code",
      "metadata": {
        "colab": {
          "base_uri": "https://localhost:8080/"
        },
        "id": "aOlRpDIPUbjk",
        "outputId": "32aeb413-e54c-4825-e83a-1ba0913572fc"
      },
      "source": [
        "epochs = 500\n",
        "lr = 1e-1\n",
        "history3 = fit(epochs, lr, model, train_loader, val_loader)"
      ],
      "execution_count": null,
      "outputs": [
        {
          "output_type": "stream",
          "text": [
            "Epoch [20], val_loss: 6025.8652\n",
            "Epoch [40], val_loss: 5974.9712\n",
            "Epoch [60], val_loss: 5921.3140\n",
            "Epoch [80], val_loss: 5879.7749\n",
            "Epoch [100], val_loss: 5904.0347\n",
            "Epoch [120], val_loss: 5862.8037\n",
            "Epoch [140], val_loss: 5832.0249\n",
            "Epoch [160], val_loss: 5834.3643\n",
            "Epoch [180], val_loss: 5822.8018\n",
            "Epoch [200], val_loss: 5763.6665\n",
            "Epoch [220], val_loss: 5760.2700\n",
            "Epoch [240], val_loss: 5730.2842\n",
            "Epoch [260], val_loss: 5782.8203\n",
            "Epoch [280], val_loss: 5696.4751\n",
            "Epoch [300], val_loss: 5694.6641\n",
            "Epoch [320], val_loss: 5685.1953\n",
            "Epoch [340], val_loss: 5677.1860\n",
            "Epoch [360], val_loss: 5635.2095\n",
            "Epoch [380], val_loss: 5621.6909\n",
            "Epoch [400], val_loss: 5650.5039\n",
            "Epoch [420], val_loss: 5600.6890\n",
            "Epoch [440], val_loss: 5584.1890\n",
            "Epoch [460], val_loss: 5588.8838\n",
            "Epoch [480], val_loss: 5737.1987\n",
            "Epoch [500], val_loss: 5636.3062\n"
          ],
          "name": "stdout"
        }
      ]
    },
    {
      "cell_type": "code",
      "metadata": {
        "colab": {
          "base_uri": "https://localhost:8080/"
        },
        "id": "2tof4WOSUbjl",
        "outputId": "514c4185-627a-4985-cc79-3003beae51bf"
      },
      "source": [
        "epochs = 500\n",
        "lr = 0.5\n",
        "history4 = fit(epochs, lr, model, train_loader, val_loader)"
      ],
      "execution_count": null,
      "outputs": [
        {
          "output_type": "stream",
          "text": [
            "Epoch [20], val_loss: 6077.8530\n",
            "Epoch [40], val_loss: 5888.4624\n",
            "Epoch [60], val_loss: 5381.8843\n",
            "Epoch [80], val_loss: 5420.6714\n",
            "Epoch [100], val_loss: 5335.0703\n",
            "Epoch [120], val_loss: 5481.0098\n",
            "Epoch [140], val_loss: 5549.0073\n",
            "Epoch [160], val_loss: 5205.3745\n",
            "Epoch [180], val_loss: 5146.6655\n",
            "Epoch [200], val_loss: 4820.7583\n",
            "Epoch [220], val_loss: 5221.7466\n",
            "Epoch [240], val_loss: 5614.5117\n",
            "Epoch [260], val_loss: 4992.0210\n",
            "Epoch [280], val_loss: 5062.5840\n",
            "Epoch [300], val_loss: 5464.6450\n",
            "Epoch [320], val_loss: 4729.0391\n",
            "Epoch [340], val_loss: 4541.5161\n",
            "Epoch [360], val_loss: 4861.8760\n",
            "Epoch [380], val_loss: 4660.1343\n",
            "Epoch [400], val_loss: 4796.8071\n",
            "Epoch [420], val_loss: 4461.0039\n",
            "Epoch [440], val_loss: 3989.6243\n",
            "Epoch [460], val_loss: 4692.2515\n",
            "Epoch [480], val_loss: 3884.3379\n",
            "Epoch [500], val_loss: 4840.7251\n"
          ],
          "name": "stdout"
        }
      ]
    },
    {
      "cell_type": "code",
      "metadata": {
        "colab": {
          "base_uri": "https://localhost:8080/"
        },
        "id": "xJQlQI6uUbjn",
        "outputId": "ccffb164-7edc-4dfc-e268-ebcba2958b4e"
      },
      "source": [
        "epochs = 500\n",
        "lr = 1e-2\n",
        "history5 = fit(epochs, lr, model, train_loader, val_loader)"
      ],
      "execution_count": null,
      "outputs": [
        {
          "output_type": "stream",
          "text": [
            "Epoch [20], val_loss: 3733.8269\n",
            "Epoch [40], val_loss: 3731.2976\n",
            "Epoch [60], val_loss: 3728.4045\n",
            "Epoch [80], val_loss: 3730.8914\n",
            "Epoch [100], val_loss: 3729.9836\n",
            "Epoch [120], val_loss: 3726.7859\n",
            "Epoch [140], val_loss: 3729.1431\n",
            "Epoch [160], val_loss: 3725.9717\n",
            "Epoch [180], val_loss: 3726.8000\n",
            "Epoch [200], val_loss: 3726.3347\n",
            "Epoch [220], val_loss: 3724.0942\n",
            "Epoch [240], val_loss: 3725.4639\n",
            "Epoch [260], val_loss: 3724.4116\n",
            "Epoch [280], val_loss: 3727.6443\n",
            "Epoch [300], val_loss: 3729.3745\n",
            "Epoch [320], val_loss: 3726.0073\n",
            "Epoch [340], val_loss: 3726.3433\n",
            "Epoch [360], val_loss: 3729.5884\n",
            "Epoch [380], val_loss: 3729.2134\n",
            "Epoch [400], val_loss: 3720.4873\n",
            "Epoch [420], val_loss: 3718.3438\n",
            "Epoch [440], val_loss: 3723.4639\n",
            "Epoch [460], val_loss: 3719.3083\n",
            "Epoch [480], val_loss: 3724.1123\n",
            "Epoch [500], val_loss: 3714.4038\n"
          ],
          "name": "stdout"
        }
      ]
    },
    {
      "cell_type": "markdown",
      "metadata": {
        "id": "YG3RBoO1Ubjo"
      },
      "source": [
        "**Q: What is the final validation loss of your model?**"
      ]
    },
    {
      "cell_type": "code",
      "metadata": {
        "id": "hDnSZX3VUbjs"
      },
      "source": [
        "val_loss = 3714.4038"
      ],
      "execution_count": null,
      "outputs": []
    },
    {
      "cell_type": "markdown",
      "metadata": {
        "id": "SQLcr3mGUbjt"
      },
      "source": [
        "Let's log the final validation loss to Jovian and commit the notebook"
      ]
    },
    {
      "cell_type": "code",
      "metadata": {
        "colab": {
          "base_uri": "https://localhost:8080/"
        },
        "id": "RtAM3MnHUbju",
        "outputId": "1c27ac3a-536b-44d0-a48c-31ed3084b73d"
      },
      "source": [
        "jovian.log_metrics(val_loss=val_loss)"
      ],
      "execution_count": null,
      "outputs": [
        {
          "output_type": "stream",
          "text": [
            "[jovian] Metrics logged.\u001b[0m\n"
          ],
          "name": "stdout"
        }
      ]
    },
    {
      "cell_type": "code",
      "metadata": {
        "colab": {
          "base_uri": "https://localhost:8080/",
          "height": 86
        },
        "id": "L4AcDXQMUbjv",
        "outputId": "32990f2a-c116-46ee-b3c3-8200a68f8118"
      },
      "source": [
        "jovian.commit(project=project_name, environment=None)"
      ],
      "execution_count": null,
      "outputs": [
        {
          "output_type": "stream",
          "text": [
            "[jovian] Detected Colab notebook...\u001b[0m\n",
            "[jovian] Uploading colab notebook to Jovian...\u001b[0m\n",
            "[jovian] Committed successfully! https://jovian.ai/astha1998/02-insurance-linear-regression\u001b[0m\n"
          ],
          "name": "stdout"
        },
        {
          "output_type": "execute_result",
          "data": {
            "application/vnd.google.colaboratory.intrinsic+json": {
              "type": "string"
            },
            "text/plain": [
              "'https://jovian.ai/astha1998/02-insurance-linear-regression'"
            ]
          },
          "metadata": {
            "tags": []
          },
          "execution_count": 17
        }
      ]
    },
    {
      "cell_type": "markdown",
      "metadata": {
        "id": "ktzoX3EtUbkZ"
      },
      "source": [
        "## Step 5: Make predictions using the trained model\n",
        "\n",
        "**  function definition to make predictions on a single input**"
      ]
    },
    {
      "cell_type": "code",
      "metadata": {
        "id": "tGdHLIlCUbka"
      },
      "source": [
        "def predict_single(input, target, model):\n",
        "    inputs = input.unsqueeze(0)\n",
        "    predictions = model(inputs)                \n",
        "    prediction = predictions[0].detach()\n",
        "    print(\"Input:\", input)\n",
        "    print(\"Target:\", target)\n",
        "    print(\"Prediction:\", prediction)"
      ],
      "execution_count": null,
      "outputs": []
    },
    {
      "cell_type": "code",
      "metadata": {
        "colab": {
          "base_uri": "https://localhost:8080/"
        },
        "id": "7TWOLvV3Ubkc",
        "outputId": "39c0582d-55bb-4ce2-8597-af8e09732dda"
      },
      "source": [
        "input, target = val_ds[0]\n",
        "predict_single(input, target, model)"
      ],
      "execution_count": null,
      "outputs": [
        {
          "output_type": "stream",
          "text": [
            "Input: tensor([54.0000,  1.0000, 37.6912,  0.0000,  0.0000,  0.0000])\n",
            "Target: tensor([12104.6758])\n",
            "Prediction: tensor([12453.8877])\n"
          ],
          "name": "stdout"
        }
      ]
    },
    {
      "cell_type": "code",
      "metadata": {
        "colab": {
          "base_uri": "https://localhost:8080/"
        },
        "id": "tjY0zOOzUbkd",
        "outputId": "ce9ae4ae-1d95-41f5-d349-faa1229371e1"
      },
      "source": [
        "input, target = val_ds[10]\n",
        "predict_single(input, target, model)"
      ],
      "execution_count": null,
      "outputs": [
        {
          "output_type": "stream",
          "text": [
            "Input: tensor([22.0000,  1.0000, 38.8355,  0.0000,  0.0000,  2.0000])\n",
            "Target: tensor([1942.5735])\n",
            "Prediction: tensor([2345.0339])\n"
          ],
          "name": "stdout"
        }
      ]
    },
    {
      "cell_type": "code",
      "metadata": {
        "colab": {
          "base_uri": "https://localhost:8080/"
        },
        "id": "woCrq2mZUbkh",
        "outputId": "8423d1a6-d022-4ae9-e6f2-54de9f6cd336"
      },
      "source": [
        "input, target = val_ds[23]\n",
        "predict_single(input, target, model)"
      ],
      "execution_count": null,
      "outputs": [
        {
          "output_type": "stream",
          "text": [
            "Input: tensor([48.0000,  0.0000, 37.1450,  2.0000,  0.0000,  0.0000])\n",
            "Target: tensor([11650.1689])\n",
            "Prediction: tensor([12049.2949])\n"
          ],
          "name": "stdout"
        }
      ]
    },
    {
      "cell_type": "markdown",
      "metadata": {
        "id": "pTenknB7GeLI"
      },
      "source": [
        "#### **Conclusion**\r\n",
        "\r\n",
        "In this notebook, we have explored the basics of the linear regression model and applied it to predict insuranc charges and seen differnece between predicted and actual results."
      ]
    },
    {
      "cell_type": "code",
      "metadata": {
        "colab": {
          "base_uri": "https://localhost:8080/",
          "height": 137
        },
        "id": "Knqm6fxNUbko",
        "outputId": "152c8fc5-10bb-4136-ab5a-9bb784e86298"
      },
      "source": [
        "jovian.commit(project=project_name, environment=None)\n",
        "jovian.commit(project=project_name, environment=None) # try again, kaggle fails sometimes"
      ],
      "execution_count": null,
      "outputs": [
        {
          "output_type": "stream",
          "text": [
            "[jovian] Detected Colab notebook...\u001b[0m\n",
            "[jovian] Uploading colab notebook to Jovian...\u001b[0m\n",
            "[jovian] Committed successfully! https://jovian.ai/astha1998/02-insurance-linear-regression\u001b[0m\n",
            "[jovian] Detected Colab notebook...\u001b[0m\n",
            "[jovian] Uploading colab notebook to Jovian...\u001b[0m\n",
            "[jovian] Committed successfully! https://jovian.ai/astha1998/02-insurance-linear-regression\u001b[0m\n"
          ],
          "name": "stdout"
        },
        {
          "output_type": "execute_result",
          "data": {
            "application/vnd.google.colaboratory.intrinsic+json": {
              "type": "string"
            },
            "text/plain": [
              "'https://jovian.ai/astha1998/02-insurance-linear-regression'"
            ]
          },
          "metadata": {
            "tags": []
          },
          "execution_count": 18
        }
      ]
    },
    {
      "cell_type": "code",
      "metadata": {
        "id": "C2dIXNOKUbks"
      },
      "source": [
        ""
      ],
      "execution_count": null,
      "outputs": []
    }
  ]
}